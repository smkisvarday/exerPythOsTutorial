{
 "cells": [
  {
   "cell_type": "code",
   "execution_count": 1,
   "source": [
    "import os"
   ],
   "outputs": [],
   "metadata": {}
  },
  {
   "cell_type": "code",
   "execution_count": 2,
   "source": [
    "print (os.getcwd())"
   ],
   "outputs": [
    {
     "output_type": "stream",
     "name": "stdout",
     "text": [
      "c:\\Users\\Kisvarday\\Desktop\\Informatics\\Utah\\ComputerScience\\exerPythOsTutorial\n"
     ]
    }
   ],
   "metadata": {}
  },
  {
   "cell_type": "code",
   "execution_count": 4,
   "source": [
    "os.chdir('/Users/Kisvarday/Desktop')"
   ],
   "outputs": [],
   "metadata": {}
  },
  {
   "cell_type": "code",
   "execution_count": 7,
   "source": [
    "print (os.getcwd())"
   ],
   "outputs": [
    {
     "output_type": "stream",
     "name": "stdout",
     "text": [
      "C:\\Users\\Kisvarday\\Desktop\n"
     ]
    }
   ],
   "metadata": {}
  },
  {
   "cell_type": "code",
   "execution_count": 8,
   "source": [
    "print (os.listdir())"
   ],
   "outputs": [
    {
     "output_type": "stream",
     "name": "stdout",
     "text": [
      "['.~lock.OM long-term problem analysis 2020.odt#', '2019 TEMPLATE CHANGE pinkham.xlsx', '2020 family schedule.odt', '2020 Med-Peds Graduate Contact Info (version 1).xlsb', '2020_prob3.pdf', '2021 Billing and Coding 03.pptm', '2021 Billing and Coding 04.pptm', '2021 Billing and Coding.pptm', '30April2019.pdf', '36831 LAES_A Cost Sheet.xlsx', '42096-2_vanguard_rollover_cover_letter (1).docx', '9FinalDayFall2019.pptx', 'AAP NCE 2019', 'APD', 'APE notes June 2019.odt', 'APPD ZOOM LOGO-Blue (1).png', 'APPD.pptx', 'Bloom', \"Bloom letter for bursar's office.docx\", 'Bloomsburg Student Health Cover Letter.docx', 'Bloomsburg University Planning Day 15July2020c.pptx', 'Bloomsburg University Student Health Covid Process Planning Draft 02.docx', 'brj.gif', 'BU Covid Testing Recommendations 31July2020.pptx', 'BU Covid Testing Recommendations 31July2020a.pptx', 'Budget 2021.xlsx', 'Budget 2021a.xlsx', 'Budget Aug 2021.xlsx', 'Budget Aug 2021a.xlsx', 'budget.ods', 'Burnout', 'c - Chrome.lnk', 'Caring photo.pptx', \"Ceili's Actress Enrichment Project Script.docx\", 'Certificate--Susannah Kisvarday.pdf', 'Chapter 94 Learner--Care of the Late Premature Infant.odt', 'Chapter 97.odt', \"Chris and Susannah's book 2019.odt\", 'Chris thoughts March 23rd.odt', 'Chris to do.odt', 'chriskisv@gmail.com - Chrome.lnk', 'Christmas plan 2019.odt', 'cinnamon-roll-bundt-cake-dixie.jpg', 'Cisco Webex Meetings.lnk', 'CME', 'CME requests', 'CME29June2021.pdf', 'covid isolation and quarantine guidelines.pptx', 'Desai Communication Skills Assessment Mar2021.docx', 'Design Thinking', 'desktop.ini', 'Drink recipes', 'Dr_K_development and WCCs 2020.pptx', 'EHR.pptm', 'Elementary school OM team.odt', \"Ellie's OM script 2019g.odt\", 'EQIPP Aims 2019-2020 - notes 12-19.docx', 'EQIPP for Residents module list.png', 'Evaluating Online Academic Material', 'Fall 2021 week schedule.xlsx', 'February 2019 Report Out for Tom ODF.docx', 'February 2019 Report Out for Tom ODF.odt', 'February 2019 Report Out for Tom.docx', 'Feedback lecture', 'Funk Rejects.pptm', 'FunkRejects.jpg', 'Geico card March 2021.pdf', 'Geisinger MedEd HackAthon', 'GoPro', 'headshot Susannah Kisvarday.JPG', 'headshot Susannah Kisvarday02.jpg', 'headshot Susannah Kisvarday1.jpg', 'headshot Susannah.jpg', 'How Old Am I.pptx', 'How to Record the Screen on Your Windows PC or Mac _ PCMag - Google Chrome 2021-02-28 21-53-15.mp4', 'IMG_9212.JPG', 'IMG_9245.JPG', 'IMG_9883.JPG', 'Informatics', 'Jenson LOR.docx', 'Jenson LOR.pdf', 'kids.mp4', 'Kisvarday Kid Awesome stuff', 'Kisvarday Pay Stub Sept 2020.docx', 'Kisvarday Pay Stub Sept 2020.pdf', 'Kisvarday Pay Stub.html', 'Kisvarday Pay Stub_files', 'Kisvarday1.pdf', 'Kisvarday2.pdf', 'Klemick, Janet_ 604082_Timeline03.docx', 'Klemick, Janet_ 604082_TimelineFinal.docx', 'Klemick, Janet_604082_CR.doc', 'Lee Communication Skills Assessment Mar2021.docx', 'Lewisburg HTN QI.docx', 'Look at this.pptx', 'Mailing list Christmas 2017.xls', 'Mailing list Christmas 2020 (version 2).xls', 'Mailing list Christmas 2020.xls', 'Mailing list Christmas for 2019-in process.xls', 'Mailing list Christmas for 2019.xls', 'Microsoft Teams.lnk', 'Minium, Kay_7145467_CR FEB PI case final PI form.doc', 'Minium, Kay_7145467_CR FEB PI case.doc', 'Minium, Kay_7145467_TIMELINE (2).docx', 'MOCA Peds', 'Moyer, Graydon_564230_CR (1).doc', 'My credentials', 'Name the Mars Rover.odt', 'ndi_setup-2.4.0.exe', 'Notes from SQIL Thursday adaptive learning and more.docx', 'OM', 'OM long-term problem analysis 2020.odt', 'OM Problem 3 info on Mysteries.pptx', 'Pediatric Grand Rounds Schedule 2019.xlsx', 'Percy Jackson_ Sea of Monsters Soundtrack Suite (320  kbps).mp3', 'Person 1 - Chrome.lnk', 'Personal Statement for SQIL.docx', 'Photos for Peds Evangelical Pilot Bridge Program Proposal compressed.pptx', 'pictures', 'Pictures of Kids downloaded 27Oct19', 'PP20210224 [Autosaved].pptx', 'Proposal for Pilot Pediatric Bridge Program 2019.docx', 'Proposal for Pilot Pediatric Bridge Program.docx', 'Provider Wellness Inbox.pptx', 'Python', 'Receiving Feedback SK 2020d.pptx', 'Roblox Player.lnk', 'Roblox Studio.lnk', 'scraps.pptx', 'SemesterAtSea', 'September 2019 Report Out for Tom.docx', 'SKCovidVaccine.jpg', 'Slido.lnk', 'source.gif', 'SP evals', 'SQIL', 'StarLynx', 'Story details end of March 2020.docx', 'Susannah (ceilikisv@gmail.com) - Chrome.lnk', 'Susannah Kisvarday chest Xray.odt', 'Susannah Kisvarday Curriculum Vitae 2020.docx', 'Susannah Kisvarday Curriculum Vitae 2020ap.docx', 'susannahkisvarday@gmail.com - Chrome.lnk', 'Table 1_Type and Number of Presenting Problems.pdf', 'Table 2_Amount and Complexity of Data.pdf', 'Table 3_Table of Risk.pdf', 'TAKE 9 Covid pretest strategy.docx', 'Televideo Follow-up PI project Fishbone Root Cause Analysis.xls', 'Testing FastFact.docx', 'TODONow', 'Town Hall with Dr. K 8-11-20b.docx', 'Untitled 1.odt', 'Untitled 2.odt', 'Untitled 3.odt', 'Untitled 4.odt', 'Utah Canvas.lnk', 'UTI protocol document.docx', 'Vanderbilt Learner Coding.docx', 'Vanderbilt Learner Coding.odt', 'Vanderbilt Outpatient Coding Table 1.pdf', 'Vanderbilt Outpatient Coding Table 2.pdf', 'Vanderbilt Outpatient Coding Table 3.pdf', 'Vanderbilt Preceptor Coding.docx', 'Visual Studio Code.lnk', 'VScodeToPython.png', 'WPW Virtual Leadership Summit Take Aways.pdf', 'Yearbook 2019', 'Zoom.lnk', '~$2021 Billing and Coding.pptm', '~$APPD.pptx', '~$Budget Aug 2021a.xlsx', '~$budget.ods', '~$Look at this.pptx', '~$nson LOR.docx', '~$svarday Pay Stub Sept 2020.docx']\n"
     ]
    }
   ],
   "metadata": {}
  },
  {
   "cell_type": "code",
   "execution_count": 9,
   "source": [
    "os.mkdir('OS-Demo-2/Sub-Dir-1')"
   ],
   "outputs": [],
   "metadata": {}
  },
  {
   "cell_type": "code",
   "execution_count": 10,
   "source": [
    "os.mkdirs('OS-Demo-2/Sub-Dir-1')"
   ],
   "outputs": [
    {
     "output_type": "error",
     "ename": "AttributeError",
     "evalue": "module 'os' has no attribute 'mkdirs'",
     "traceback": [
      "\u001b[1;31m---------------------------------------------------------------------------\u001b[0m",
      "\u001b[1;31mAttributeError\u001b[0m                            Traceback (most recent call last)",
      "\u001b[1;32m<ipython-input-10-a71d013b5929>\u001b[0m in \u001b[0;36m<module>\u001b[1;34m\u001b[0m\n\u001b[1;32m----> 1\u001b[1;33m \u001b[0mos\u001b[0m\u001b[1;33m.\u001b[0m\u001b[0mmkdirs\u001b[0m\u001b[1;33m(\u001b[0m\u001b[1;34m'OS-Demo-2/Sub-Dir-1'\u001b[0m\u001b[1;33m)\u001b[0m\u001b[1;33m\u001b[0m\u001b[1;33m\u001b[0m\u001b[0m\n\u001b[0m",
      "\u001b[1;31mAttributeError\u001b[0m: module 'os' has no attribute 'mkdirs'"
     ]
    }
   ],
   "metadata": {}
  },
  {
   "cell_type": "code",
   "execution_count": 11,
   "source": [
    "os.makedirs('OS-Demo-2/Sub-Dir-1')"
   ],
   "outputs": [],
   "metadata": {}
  },
  {
   "cell_type": "code",
   "execution_count": 12,
   "source": [
    "os.rmdirs('OS-Demo-2/Sub-Dir-1')"
   ],
   "outputs": [
    {
     "output_type": "error",
     "ename": "AttributeError",
     "evalue": "module 'os' has no attribute 'rmdirs'",
     "traceback": [
      "\u001b[1;31m---------------------------------------------------------------------------\u001b[0m",
      "\u001b[1;31mAttributeError\u001b[0m                            Traceback (most recent call last)",
      "\u001b[1;32m<ipython-input-12-6a55b9ee9fd4>\u001b[0m in \u001b[0;36m<module>\u001b[1;34m\u001b[0m\n\u001b[1;32m----> 1\u001b[1;33m \u001b[0mos\u001b[0m\u001b[1;33m.\u001b[0m\u001b[0mrmdirs\u001b[0m\u001b[1;33m(\u001b[0m\u001b[1;34m'OS-Demo-2/Sub-Dir-1'\u001b[0m\u001b[1;33m)\u001b[0m\u001b[1;33m\u001b[0m\u001b[1;33m\u001b[0m\u001b[0m\n\u001b[0m",
      "\u001b[1;31mAttributeError\u001b[0m: module 'os' has no attribute 'rmdirs'"
     ]
    }
   ],
   "metadata": {}
  },
  {
   "cell_type": "code",
   "execution_count": 13,
   "source": [
    "print(os.listdir())"
   ],
   "outputs": [
    {
     "output_type": "stream",
     "name": "stdout",
     "text": [
      "['.~lock.OM long-term problem analysis 2020.odt#', '2019 TEMPLATE CHANGE pinkham.xlsx', '2020 family schedule.odt', '2020 Med-Peds Graduate Contact Info (version 1).xlsb', '2020_prob3.pdf', '2021 Billing and Coding 03.pptm', '2021 Billing and Coding 04.pptm', '2021 Billing and Coding.pptm', '30April2019.pdf', '36831 LAES_A Cost Sheet.xlsx', '42096-2_vanguard_rollover_cover_letter (1).docx', '9FinalDayFall2019.pptx', 'AAP NCE 2019', 'APD', 'APE notes June 2019.odt', 'APPD ZOOM LOGO-Blue (1).png', 'APPD.pptx', 'Bloom', \"Bloom letter for bursar's office.docx\", 'Bloomsburg Student Health Cover Letter.docx', 'Bloomsburg University Planning Day 15July2020c.pptx', 'Bloomsburg University Student Health Covid Process Planning Draft 02.docx', 'brj.gif', 'BU Covid Testing Recommendations 31July2020.pptx', 'BU Covid Testing Recommendations 31July2020a.pptx', 'Budget 2021.xlsx', 'Budget 2021a.xlsx', 'Budget Aug 2021.xlsx', 'Budget Aug 2021a.xlsx', 'budget.ods', 'Burnout', 'c - Chrome.lnk', 'Caring photo.pptx', \"Ceili's Actress Enrichment Project Script.docx\", 'Certificate--Susannah Kisvarday.pdf', 'Chapter 94 Learner--Care of the Late Premature Infant.odt', 'Chapter 97.odt', \"Chris and Susannah's book 2019.odt\", 'Chris thoughts March 23rd.odt', 'Chris to do.odt', 'chriskisv@gmail.com - Chrome.lnk', 'Christmas plan 2019.odt', 'cinnamon-roll-bundt-cake-dixie.jpg', 'Cisco Webex Meetings.lnk', 'CME', 'CME requests', 'CME29June2021.pdf', 'covid isolation and quarantine guidelines.pptx', 'Desai Communication Skills Assessment Mar2021.docx', 'Design Thinking', 'desktop.ini', 'Drink recipes', 'Dr_K_development and WCCs 2020.pptx', 'EHR.pptm', 'Elementary school OM team.odt', \"Ellie's OM script 2019g.odt\", 'EQIPP Aims 2019-2020 - notes 12-19.docx', 'EQIPP for Residents module list.png', 'Evaluating Online Academic Material', 'Fall 2021 week schedule.xlsx', 'February 2019 Report Out for Tom ODF.docx', 'February 2019 Report Out for Tom ODF.odt', 'February 2019 Report Out for Tom.docx', 'Feedback lecture', 'Funk Rejects.pptm', 'FunkRejects.jpg', 'Geico card March 2021.pdf', 'Geisinger MedEd HackAthon', 'GoPro', 'headshot Susannah Kisvarday.JPG', 'headshot Susannah Kisvarday02.jpg', 'headshot Susannah Kisvarday1.jpg', 'headshot Susannah.jpg', 'How Old Am I.pptx', 'How to Record the Screen on Your Windows PC or Mac _ PCMag - Google Chrome 2021-02-28 21-53-15.mp4', 'IMG_9212.JPG', 'IMG_9245.JPG', 'IMG_9883.JPG', 'Informatics', 'Jenson LOR.docx', 'Jenson LOR.pdf', 'kids.mp4', 'Kisvarday Kid Awesome stuff', 'Kisvarday Pay Stub Sept 2020.docx', 'Kisvarday Pay Stub Sept 2020.pdf', 'Kisvarday Pay Stub.html', 'Kisvarday Pay Stub_files', 'Kisvarday1.pdf', 'Kisvarday2.pdf', 'Klemick, Janet_ 604082_Timeline03.docx', 'Klemick, Janet_ 604082_TimelineFinal.docx', 'Klemick, Janet_604082_CR.doc', 'Lee Communication Skills Assessment Mar2021.docx', 'Lewisburg HTN QI.docx', 'Look at this.pptx', 'Mailing list Christmas 2017.xls', 'Mailing list Christmas 2020 (version 2).xls', 'Mailing list Christmas 2020.xls', 'Mailing list Christmas for 2019-in process.xls', 'Mailing list Christmas for 2019.xls', 'Microsoft Teams.lnk', 'Minium, Kay_7145467_CR FEB PI case final PI form.doc', 'Minium, Kay_7145467_CR FEB PI case.doc', 'Minium, Kay_7145467_TIMELINE (2).docx', 'MOCA Peds', 'Moyer, Graydon_564230_CR (1).doc', 'My credentials', 'Name the Mars Rover.odt', 'ndi_setup-2.4.0.exe', 'Notes from SQIL Thursday adaptive learning and more.docx', 'OM', 'OM long-term problem analysis 2020.odt', 'OM Problem 3 info on Mysteries.pptx', 'OS-Demo-2', 'Pediatric Grand Rounds Schedule 2019.xlsx', 'Percy Jackson_ Sea of Monsters Soundtrack Suite (320  kbps).mp3', 'Person 1 - Chrome.lnk', 'Personal Statement for SQIL.docx', 'Photos for Peds Evangelical Pilot Bridge Program Proposal compressed.pptx', 'pictures', 'Pictures of Kids downloaded 27Oct19', 'PP20210224 [Autosaved].pptx', 'Proposal for Pilot Pediatric Bridge Program 2019.docx', 'Proposal for Pilot Pediatric Bridge Program.docx', 'Provider Wellness Inbox.pptx', 'Python', 'Receiving Feedback SK 2020d.pptx', 'Roblox Player.lnk', 'Roblox Studio.lnk', 'scraps.pptx', 'SemesterAtSea', 'September 2019 Report Out for Tom.docx', 'SKCovidVaccine.jpg', 'Slido.lnk', 'source.gif', 'SP evals', 'SQIL', 'StarLynx', 'Story details end of March 2020.docx', 'Susannah (ceilikisv@gmail.com) - Chrome.lnk', 'Susannah Kisvarday chest Xray.odt', 'Susannah Kisvarday Curriculum Vitae 2020.docx', 'Susannah Kisvarday Curriculum Vitae 2020ap.docx', 'susannahkisvarday@gmail.com - Chrome.lnk', 'Table 1_Type and Number of Presenting Problems.pdf', 'Table 2_Amount and Complexity of Data.pdf', 'Table 3_Table of Risk.pdf', 'TAKE 9 Covid pretest strategy.docx', 'Televideo Follow-up PI project Fishbone Root Cause Analysis.xls', 'Testing FastFact.docx', 'TODONow', 'Town Hall with Dr. K 8-11-20b.docx', 'Untitled 1.odt', 'Untitled 2.odt', 'Untitled 3.odt', 'Untitled 4.odt', 'Utah Canvas.lnk', 'UTI protocol document.docx', 'Vanderbilt Learner Coding.docx', 'Vanderbilt Learner Coding.odt', 'Vanderbilt Outpatient Coding Table 1.pdf', 'Vanderbilt Outpatient Coding Table 2.pdf', 'Vanderbilt Outpatient Coding Table 3.pdf', 'Vanderbilt Preceptor Coding.docx', 'Visual Studio Code.lnk', 'VScodeToPython.png', 'WPW Virtual Leadership Summit Take Aways.pdf', 'Yearbook 2019', 'Zoom.lnk', '~$2021 Billing and Coding.pptm', '~$APPD.pptx', '~$Budget Aug 2021a.xlsx', '~$budget.ods', '~$Look at this.pptx', '~$nson LOR.docx', '~$svarday Pay Stub Sept 2020.docx']\n"
     ]
    }
   ],
   "metadata": {}
  },
  {
   "cell_type": "code",
   "execution_count": 14,
   "source": [
    "os.rename('test.txt', 'demo.txt')"
   ],
   "outputs": [
    {
     "output_type": "error",
     "ename": "FileNotFoundError",
     "evalue": "[WinError 2] The system cannot find the file specified: 'test.txt' -> 'demo.txt'",
     "traceback": [
      "\u001b[1;31m---------------------------------------------------------------------------\u001b[0m",
      "\u001b[1;31mFileNotFoundError\u001b[0m                         Traceback (most recent call last)",
      "\u001b[1;32m<ipython-input-14-a64e0ba5d55d>\u001b[0m in \u001b[0;36m<module>\u001b[1;34m\u001b[0m\n\u001b[1;32m----> 1\u001b[1;33m \u001b[0mos\u001b[0m\u001b[1;33m.\u001b[0m\u001b[0mrename\u001b[0m\u001b[1;33m(\u001b[0m\u001b[1;34m'test.txt'\u001b[0m\u001b[1;33m,\u001b[0m \u001b[1;34m'demo.txt'\u001b[0m\u001b[1;33m)\u001b[0m\u001b[1;33m\u001b[0m\u001b[1;33m\u001b[0m\u001b[0m\n\u001b[0m",
      "\u001b[1;31mFileNotFoundError\u001b[0m: [WinError 2] The system cannot find the file specified: 'test.txt' -> 'demo.txt'"
     ]
    }
   ],
   "metadata": {}
  },
  {
   "cell_type": "code",
   "execution_count": 15,
   "source": [
    "print(os.listdir())"
   ],
   "outputs": [
    {
     "output_type": "stream",
     "name": "stdout",
     "text": [
      "['.~lock.OM long-term problem analysis 2020.odt#', '2019 TEMPLATE CHANGE pinkham.xlsx', '2020 family schedule.odt', '2020 Med-Peds Graduate Contact Info (version 1).xlsb', '2020_prob3.pdf', '2021 Billing and Coding 03.pptm', '2021 Billing and Coding 04.pptm', '2021 Billing and Coding.pptm', '30April2019.pdf', '36831 LAES_A Cost Sheet.xlsx', '42096-2_vanguard_rollover_cover_letter (1).docx', '9FinalDayFall2019.pptx', 'AAP NCE 2019', 'APD', 'APE notes June 2019.odt', 'APPD ZOOM LOGO-Blue (1).png', 'APPD.pptx', 'Bloom', \"Bloom letter for bursar's office.docx\", 'Bloomsburg Student Health Cover Letter.docx', 'Bloomsburg University Planning Day 15July2020c.pptx', 'Bloomsburg University Student Health Covid Process Planning Draft 02.docx', 'brj.gif', 'BU Covid Testing Recommendations 31July2020.pptx', 'BU Covid Testing Recommendations 31July2020a.pptx', 'Budget 2021.xlsx', 'Budget 2021a.xlsx', 'Budget Aug 2021.xlsx', 'Budget Aug 2021a.xlsx', 'budget.ods', 'Burnout', 'c - Chrome.lnk', 'Caring photo.pptx', \"Ceili's Actress Enrichment Project Script.docx\", 'Certificate--Susannah Kisvarday.pdf', 'Chapter 94 Learner--Care of the Late Premature Infant.odt', 'Chapter 97.odt', \"Chris and Susannah's book 2019.odt\", 'Chris thoughts March 23rd.odt', 'Chris to do.odt', 'chriskisv@gmail.com - Chrome.lnk', 'Christmas plan 2019.odt', 'cinnamon-roll-bundt-cake-dixie.jpg', 'Cisco Webex Meetings.lnk', 'CME', 'CME requests', 'CME29June2021.pdf', 'covid isolation and quarantine guidelines.pptx', 'Desai Communication Skills Assessment Mar2021.docx', 'Design Thinking', 'desktop.ini', 'Drink recipes', 'Dr_K_development and WCCs 2020.pptx', 'EHR.pptm', 'Elementary school OM team.odt', \"Ellie's OM script 2019g.odt\", 'EQIPP Aims 2019-2020 - notes 12-19.docx', 'EQIPP for Residents module list.png', 'Evaluating Online Academic Material', 'Fall 2021 week schedule.xlsx', 'February 2019 Report Out for Tom ODF.docx', 'February 2019 Report Out for Tom ODF.odt', 'February 2019 Report Out for Tom.docx', 'Feedback lecture', 'Funk Rejects.pptm', 'FunkRejects.jpg', 'Geico card March 2021.pdf', 'Geisinger MedEd HackAthon', 'GoPro', 'headshot Susannah Kisvarday.JPG', 'headshot Susannah Kisvarday02.jpg', 'headshot Susannah Kisvarday1.jpg', 'headshot Susannah.jpg', 'How Old Am I.pptx', 'How to Record the Screen on Your Windows PC or Mac _ PCMag - Google Chrome 2021-02-28 21-53-15.mp4', 'IMG_9212.JPG', 'IMG_9245.JPG', 'IMG_9883.JPG', 'Informatics', 'Jenson LOR.docx', 'Jenson LOR.pdf', 'kids.mp4', 'Kisvarday Kid Awesome stuff', 'Kisvarday Pay Stub Sept 2020.docx', 'Kisvarday Pay Stub Sept 2020.pdf', 'Kisvarday Pay Stub.html', 'Kisvarday Pay Stub_files', 'Kisvarday1.pdf', 'Kisvarday2.pdf', 'Klemick, Janet_ 604082_Timeline03.docx', 'Klemick, Janet_ 604082_TimelineFinal.docx', 'Klemick, Janet_604082_CR.doc', 'Lee Communication Skills Assessment Mar2021.docx', 'Lewisburg HTN QI.docx', 'Look at this.pptx', 'Mailing list Christmas 2017.xls', 'Mailing list Christmas 2020 (version 2).xls', 'Mailing list Christmas 2020.xls', 'Mailing list Christmas for 2019-in process.xls', 'Mailing list Christmas for 2019.xls', 'Microsoft Teams.lnk', 'Minium, Kay_7145467_CR FEB PI case final PI form.doc', 'Minium, Kay_7145467_CR FEB PI case.doc', 'Minium, Kay_7145467_TIMELINE (2).docx', 'MOCA Peds', 'Moyer, Graydon_564230_CR (1).doc', 'My credentials', 'Name the Mars Rover.odt', 'ndi_setup-2.4.0.exe', 'Notes from SQIL Thursday adaptive learning and more.docx', 'OM', 'OM long-term problem analysis 2020.odt', 'OM Problem 3 info on Mysteries.pptx', 'OS-Demo-2', 'Pediatric Grand Rounds Schedule 2019.xlsx', 'Percy Jackson_ Sea of Monsters Soundtrack Suite (320  kbps).mp3', 'Person 1 - Chrome.lnk', 'Personal Statement for SQIL.docx', 'Photos for Peds Evangelical Pilot Bridge Program Proposal compressed.pptx', 'pictures', 'Pictures of Kids downloaded 27Oct19', 'PP20210224 [Autosaved].pptx', 'Proposal for Pilot Pediatric Bridge Program 2019.docx', 'Proposal for Pilot Pediatric Bridge Program.docx', 'Provider Wellness Inbox.pptx', 'Python', 'Receiving Feedback SK 2020d.pptx', 'Roblox Player.lnk', 'Roblox Studio.lnk', 'scraps.pptx', 'SemesterAtSea', 'September 2019 Report Out for Tom.docx', 'SKCovidVaccine.jpg', 'Slido.lnk', 'source.gif', 'SP evals', 'SQIL', 'StarLynx', 'Story details end of March 2020.docx', 'Susannah (ceilikisv@gmail.com) - Chrome.lnk', 'Susannah Kisvarday chest Xray.odt', 'Susannah Kisvarday Curriculum Vitae 2020.docx', 'Susannah Kisvarday Curriculum Vitae 2020ap.docx', 'susannahkisvarday@gmail.com - Chrome.lnk', 'Table 1_Type and Number of Presenting Problems.pdf', 'Table 2_Amount and Complexity of Data.pdf', 'Table 3_Table of Risk.pdf', 'TAKE 9 Covid pretest strategy.docx', 'Televideo Follow-up PI project Fishbone Root Cause Analysis.xls', 'test.txt', 'Testing FastFact.docx', 'TODONow', 'Town Hall with Dr. K 8-11-20b.docx', 'Untitled 1.odt', 'Untitled 2.odt', 'Untitled 3.odt', 'Untitled 4.odt', 'Utah Canvas.lnk', 'UTI protocol document.docx', 'Vanderbilt Learner Coding.docx', 'Vanderbilt Learner Coding.odt', 'Vanderbilt Outpatient Coding Table 1.pdf', 'Vanderbilt Outpatient Coding Table 2.pdf', 'Vanderbilt Outpatient Coding Table 3.pdf', 'Vanderbilt Preceptor Coding.docx', 'Visual Studio Code.lnk', 'VScodeToPython.png', 'WPW Virtual Leadership Summit Take Aways.pdf', 'Yearbook 2019', 'Zoom.lnk', '~$2021 Billing and Coding.pptm', '~$APPD.pptx', '~$Budget Aug 2021a.xlsx', '~$budget.ods', '~$Look at this.pptx', '~$nson LOR.docx', '~$svarday Pay Stub Sept 2020.docx']\n"
     ]
    }
   ],
   "metadata": {}
  },
  {
   "cell_type": "code",
   "execution_count": 16,
   "source": [
    "os.rename('test.txt', 'demo.txt')"
   ],
   "outputs": [],
   "metadata": {}
  },
  {
   "cell_type": "code",
   "execution_count": 17,
   "source": [
    "print(os.listdir())"
   ],
   "outputs": [
    {
     "output_type": "stream",
     "name": "stdout",
     "text": [
      "['.~lock.OM long-term problem analysis 2020.odt#', '2019 TEMPLATE CHANGE pinkham.xlsx', '2020 family schedule.odt', '2020 Med-Peds Graduate Contact Info (version 1).xlsb', '2020_prob3.pdf', '2021 Billing and Coding 03.pptm', '2021 Billing and Coding 04.pptm', '2021 Billing and Coding.pptm', '30April2019.pdf', '36831 LAES_A Cost Sheet.xlsx', '42096-2_vanguard_rollover_cover_letter (1).docx', '9FinalDayFall2019.pptx', 'AAP NCE 2019', 'APD', 'APE notes June 2019.odt', 'APPD ZOOM LOGO-Blue (1).png', 'APPD.pptx', 'Bloom', \"Bloom letter for bursar's office.docx\", 'Bloomsburg Student Health Cover Letter.docx', 'Bloomsburg University Planning Day 15July2020c.pptx', 'Bloomsburg University Student Health Covid Process Planning Draft 02.docx', 'brj.gif', 'BU Covid Testing Recommendations 31July2020.pptx', 'BU Covid Testing Recommendations 31July2020a.pptx', 'Budget 2021.xlsx', 'Budget 2021a.xlsx', 'Budget Aug 2021.xlsx', 'Budget Aug 2021a.xlsx', 'budget.ods', 'Burnout', 'c - Chrome.lnk', 'Caring photo.pptx', \"Ceili's Actress Enrichment Project Script.docx\", 'Certificate--Susannah Kisvarday.pdf', 'Chapter 94 Learner--Care of the Late Premature Infant.odt', 'Chapter 97.odt', \"Chris and Susannah's book 2019.odt\", 'Chris thoughts March 23rd.odt', 'Chris to do.odt', 'chriskisv@gmail.com - Chrome.lnk', 'Christmas plan 2019.odt', 'cinnamon-roll-bundt-cake-dixie.jpg', 'Cisco Webex Meetings.lnk', 'CME', 'CME requests', 'CME29June2021.pdf', 'covid isolation and quarantine guidelines.pptx', 'demo.txt', 'Desai Communication Skills Assessment Mar2021.docx', 'Design Thinking', 'desktop.ini', 'Drink recipes', 'Dr_K_development and WCCs 2020.pptx', 'EHR.pptm', 'Elementary school OM team.odt', \"Ellie's OM script 2019g.odt\", 'EQIPP Aims 2019-2020 - notes 12-19.docx', 'EQIPP for Residents module list.png', 'Evaluating Online Academic Material', 'Fall 2021 week schedule.xlsx', 'February 2019 Report Out for Tom ODF.docx', 'February 2019 Report Out for Tom ODF.odt', 'February 2019 Report Out for Tom.docx', 'Feedback lecture', 'Funk Rejects.pptm', 'FunkRejects.jpg', 'Geico card March 2021.pdf', 'Geisinger MedEd HackAthon', 'GoPro', 'headshot Susannah Kisvarday.JPG', 'headshot Susannah Kisvarday02.jpg', 'headshot Susannah Kisvarday1.jpg', 'headshot Susannah.jpg', 'How Old Am I.pptx', 'How to Record the Screen on Your Windows PC or Mac _ PCMag - Google Chrome 2021-02-28 21-53-15.mp4', 'IMG_9212.JPG', 'IMG_9245.JPG', 'IMG_9883.JPG', 'Informatics', 'Jenson LOR.docx', 'Jenson LOR.pdf', 'kids.mp4', 'Kisvarday Kid Awesome stuff', 'Kisvarday Pay Stub Sept 2020.docx', 'Kisvarday Pay Stub Sept 2020.pdf', 'Kisvarday Pay Stub.html', 'Kisvarday Pay Stub_files', 'Kisvarday1.pdf', 'Kisvarday2.pdf', 'Klemick, Janet_ 604082_Timeline03.docx', 'Klemick, Janet_ 604082_TimelineFinal.docx', 'Klemick, Janet_604082_CR.doc', 'Lee Communication Skills Assessment Mar2021.docx', 'Lewisburg HTN QI.docx', 'Look at this.pptx', 'Mailing list Christmas 2017.xls', 'Mailing list Christmas 2020 (version 2).xls', 'Mailing list Christmas 2020.xls', 'Mailing list Christmas for 2019-in process.xls', 'Mailing list Christmas for 2019.xls', 'Microsoft Teams.lnk', 'Minium, Kay_7145467_CR FEB PI case final PI form.doc', 'Minium, Kay_7145467_CR FEB PI case.doc', 'Minium, Kay_7145467_TIMELINE (2).docx', 'MOCA Peds', 'Moyer, Graydon_564230_CR (1).doc', 'My credentials', 'Name the Mars Rover.odt', 'ndi_setup-2.4.0.exe', 'Notes from SQIL Thursday adaptive learning and more.docx', 'OM', 'OM long-term problem analysis 2020.odt', 'OM Problem 3 info on Mysteries.pptx', 'OS-Demo-2', 'Pediatric Grand Rounds Schedule 2019.xlsx', 'Percy Jackson_ Sea of Monsters Soundtrack Suite (320  kbps).mp3', 'Person 1 - Chrome.lnk', 'Personal Statement for SQIL.docx', 'Photos for Peds Evangelical Pilot Bridge Program Proposal compressed.pptx', 'pictures', 'Pictures of Kids downloaded 27Oct19', 'PP20210224 [Autosaved].pptx', 'Proposal for Pilot Pediatric Bridge Program 2019.docx', 'Proposal for Pilot Pediatric Bridge Program.docx', 'Provider Wellness Inbox.pptx', 'Python', 'Receiving Feedback SK 2020d.pptx', 'Roblox Player.lnk', 'Roblox Studio.lnk', 'scraps.pptx', 'SemesterAtSea', 'September 2019 Report Out for Tom.docx', 'SKCovidVaccine.jpg', 'Slido.lnk', 'source.gif', 'SP evals', 'SQIL', 'StarLynx', 'Story details end of March 2020.docx', 'Susannah (ceilikisv@gmail.com) - Chrome.lnk', 'Susannah Kisvarday chest Xray.odt', 'Susannah Kisvarday Curriculum Vitae 2020.docx', 'Susannah Kisvarday Curriculum Vitae 2020ap.docx', 'susannahkisvarday@gmail.com - Chrome.lnk', 'Table 1_Type and Number of Presenting Problems.pdf', 'Table 2_Amount and Complexity of Data.pdf', 'Table 3_Table of Risk.pdf', 'TAKE 9 Covid pretest strategy.docx', 'Televideo Follow-up PI project Fishbone Root Cause Analysis.xls', 'Testing FastFact.docx', 'TODONow', 'Town Hall with Dr. K 8-11-20b.docx', 'Untitled 1.odt', 'Untitled 2.odt', 'Untitled 3.odt', 'Untitled 4.odt', 'Utah Canvas.lnk', 'UTI protocol document.docx', 'Vanderbilt Learner Coding.docx', 'Vanderbilt Learner Coding.odt', 'Vanderbilt Outpatient Coding Table 1.pdf', 'Vanderbilt Outpatient Coding Table 2.pdf', 'Vanderbilt Outpatient Coding Table 3.pdf', 'Vanderbilt Preceptor Coding.docx', 'Visual Studio Code.lnk', 'VScodeToPython.png', 'WPW Virtual Leadership Summit Take Aways.pdf', 'Yearbook 2019', 'Zoom.lnk', '~$2021 Billing and Coding.pptm', '~$APPD.pptx', '~$Budget Aug 2021a.xlsx', '~$budget.ods', '~$Look at this.pptx', '~$nson LOR.docx', '~$svarday Pay Stub Sept 2020.docx']\n"
     ]
    }
   ],
   "metadata": {}
  },
  {
   "cell_type": "code",
   "execution_count": 18,
   "source": [
    "print(os.stat('demo.txt').st_size)"
   ],
   "outputs": [
    {
     "output_type": "stream",
     "name": "stdout",
     "text": [
      "0\n"
     ]
    }
   ],
   "metadata": {}
  },
  {
   "cell_type": "code",
   "execution_count": 19,
   "source": [
    "print(os.stat('demo.txt').st_mtime)"
   ],
   "outputs": [
    {
     "output_type": "stream",
     "name": "stdout",
     "text": [
      "1632169218.268337\n"
     ]
    }
   ],
   "metadata": {}
  },
  {
   "cell_type": "code",
   "execution_count": 20,
   "source": [
    "from datetime import datetime\r\n",
    "mod_time = os.stat('demo.txt').st_mtime\r\n",
    "print (datetime.fromtimestamp(mod_time))"
   ],
   "outputs": [
    {
     "output_type": "stream",
     "name": "stdout",
     "text": [
      "2021-09-20 16:20:18.268337\n"
     ]
    }
   ],
   "metadata": {}
  },
  {
   "cell_type": "code",
   "execution_count": 21,
   "source": [
    "for dirpath, dirnames, filenames in os.walk('/Users/Kisvarday/Desktop/')\r\n",
    "print ('Current Path:', dirpath)\r\n",
    "print('Directories:', dirnames)\r\n",
    "print('Files:', filenames)\r\n",
    "print()"
   ],
   "outputs": [
    {
     "output_type": "error",
     "ename": "SyntaxError",
     "evalue": "invalid syntax (<ipython-input-21-e408d1f5ae98>, line 1)",
     "traceback": [
      "\u001b[1;36m  File \u001b[1;32m\"<ipython-input-21-e408d1f5ae98>\"\u001b[1;36m, line \u001b[1;32m1\u001b[0m\n\u001b[1;33m    for dirpath, dirnames, filenames in os.walk('/Users/Kisvarday/Desktop')\u001b[0m\n\u001b[1;37m                                                                           ^\u001b[0m\n\u001b[1;31mSyntaxError\u001b[0m\u001b[1;31m:\u001b[0m invalid syntax\n"
     ]
    }
   ],
   "metadata": {}
  },
  {
   "cell_type": "code",
   "execution_count": 22,
   "source": [
    "for dirpath, dirnames, filenames in os.walk('/Users/Kisvarday/Desktop/')\r\n",
    "print ('Current Path:', dirpath)\r\n",
    "print('Directories:', dirnames)\r\n",
    "print('Files:', filenames)\r\n",
    "print()"
   ],
   "outputs": [
    {
     "output_type": "error",
     "ename": "SyntaxError",
     "evalue": "invalid syntax (<ipython-input-22-e36039961368>, line 1)",
     "traceback": [
      "\u001b[1;36m  File \u001b[1;32m\"<ipython-input-22-e36039961368>\"\u001b[1;36m, line \u001b[1;32m1\u001b[0m\n\u001b[1;33m    for dirpath, dirnames, filenames in os.walk('/Users/Kisvarday/Desktop/')\u001b[0m\n\u001b[1;37m                                                                            ^\u001b[0m\n\u001b[1;31mSyntaxError\u001b[0m\u001b[1;31m:\u001b[0m invalid syntax\n"
     ]
    }
   ],
   "metadata": {}
  },
  {
   "cell_type": "code",
   "execution_count": 26,
   "source": [
    "print (os.environ.get('HOME'))"
   ],
   "outputs": [
    {
     "output_type": "stream",
     "name": "stdout",
     "text": [
      "None\n"
     ]
    }
   ],
   "metadata": {}
  },
  {
   "cell_type": "code",
   "execution_count": 29,
   "source": [
    "file_path = os.path.join(os.environ.get('HOME'), 'test.txt')\r\n",
    "print(file_path)"
   ],
   "outputs": [
    {
     "output_type": "error",
     "ename": "TypeError",
     "evalue": "expected str, bytes or os.PathLike object, not NoneType",
     "traceback": [
      "\u001b[1;31m---------------------------------------------------------------------------\u001b[0m",
      "\u001b[1;31mTypeError\u001b[0m                                 Traceback (most recent call last)",
      "\u001b[1;32m<ipython-input-29-5f57966b6b3f>\u001b[0m in \u001b[0;36m<module>\u001b[1;34m\u001b[0m\n\u001b[1;32m----> 1\u001b[1;33m \u001b[0mfile_path\u001b[0m \u001b[1;33m=\u001b[0m \u001b[0mos\u001b[0m\u001b[1;33m.\u001b[0m\u001b[0mpath\u001b[0m\u001b[1;33m.\u001b[0m\u001b[0mjoin\u001b[0m\u001b[1;33m(\u001b[0m\u001b[0mos\u001b[0m\u001b[1;33m.\u001b[0m\u001b[0menviron\u001b[0m\u001b[1;33m.\u001b[0m\u001b[0mget\u001b[0m\u001b[1;33m(\u001b[0m\u001b[1;34m'HOME'\u001b[0m\u001b[1;33m)\u001b[0m\u001b[1;33m,\u001b[0m \u001b[1;34m'test.txt'\u001b[0m\u001b[1;33m)\u001b[0m\u001b[1;33m\u001b[0m\u001b[1;33m\u001b[0m\u001b[0m\n\u001b[0m\u001b[0;32m      2\u001b[0m \u001b[0mprint\u001b[0m\u001b[1;33m(\u001b[0m\u001b[0mfile_path\u001b[0m\u001b[1;33m)\u001b[0m\u001b[1;33m\u001b[0m\u001b[1;33m\u001b[0m\u001b[0m\n",
      "\u001b[1;32mC:\\ProgramData\\Anaconda3\\lib\\ntpath.py\u001b[0m in \u001b[0;36mjoin\u001b[1;34m(path, *paths)\u001b[0m\n\u001b[0;32m     76\u001b[0m \u001b[1;31m# Join two (or more) paths.\u001b[0m\u001b[1;33m\u001b[0m\u001b[1;33m\u001b[0m\u001b[1;33m\u001b[0m\u001b[0m\n\u001b[0;32m     77\u001b[0m \u001b[1;32mdef\u001b[0m \u001b[0mjoin\u001b[0m\u001b[1;33m(\u001b[0m\u001b[0mpath\u001b[0m\u001b[1;33m,\u001b[0m \u001b[1;33m*\u001b[0m\u001b[0mpaths\u001b[0m\u001b[1;33m)\u001b[0m\u001b[1;33m:\u001b[0m\u001b[1;33m\u001b[0m\u001b[1;33m\u001b[0m\u001b[0m\n\u001b[1;32m---> 78\u001b[1;33m     \u001b[0mpath\u001b[0m \u001b[1;33m=\u001b[0m \u001b[0mos\u001b[0m\u001b[1;33m.\u001b[0m\u001b[0mfspath\u001b[0m\u001b[1;33m(\u001b[0m\u001b[0mpath\u001b[0m\u001b[1;33m)\u001b[0m\u001b[1;33m\u001b[0m\u001b[1;33m\u001b[0m\u001b[0m\n\u001b[0m\u001b[0;32m     79\u001b[0m     \u001b[1;32mif\u001b[0m \u001b[0misinstance\u001b[0m\u001b[1;33m(\u001b[0m\u001b[0mpath\u001b[0m\u001b[1;33m,\u001b[0m \u001b[0mbytes\u001b[0m\u001b[1;33m)\u001b[0m\u001b[1;33m:\u001b[0m\u001b[1;33m\u001b[0m\u001b[1;33m\u001b[0m\u001b[0m\n\u001b[0;32m     80\u001b[0m         \u001b[0msep\u001b[0m \u001b[1;33m=\u001b[0m \u001b[1;34mb'\\\\'\u001b[0m\u001b[1;33m\u001b[0m\u001b[1;33m\u001b[0m\u001b[0m\n",
      "\u001b[1;31mTypeError\u001b[0m: expected str, bytes or os.PathLike object, not NoneType"
     ]
    }
   ],
   "metadata": {}
  },
  {
   "cell_type": "code",
   "execution_count": 5,
   "source": [
    "# https://www.python.org/doc/ "
   ],
   "outputs": [],
   "metadata": {}
  },
  {
   "cell_type": "code",
   "execution_count": null,
   "source": [
    "# https://docs.python.org/3/tutorial/stdlib.html#operating-system-interface\r\n"
   ],
   "outputs": [],
   "metadata": {}
  }
 ],
 "metadata": {
  "kernelspec": {
   "name": "python3",
   "display_name": "Python 3.8.8 64-bit ('base': conda)"
  },
  "language_info": {
   "codemirror_mode": {
    "name": "ipython",
    "version": 3
   },
   "file_extension": ".py",
   "mimetype": "text/x-python",
   "name": "python",
   "nbconvert_exporter": "python",
   "pygments_lexer": "ipython3",
   "version": "3.8.8"
  },
  "interpreter": {
   "hash": "b3ba2566441a7c06988d0923437866b63cedc61552a5af99d1f4fb67d367b25f"
  }
 },
 "nbformat": 4,
 "nbformat_minor": 5
}